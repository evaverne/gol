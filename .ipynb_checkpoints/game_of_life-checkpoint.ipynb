{
 "cells": [
  {
   "cell_type": "code",
   "execution_count": 1,
   "metadata": {},
   "outputs": [],
   "source": [
    "import pygame\n",
    "pygame.init()\n",
    "\n",
    "grid = [[1 for n in range(10)] for m in range(10)]\n",
    "WHITE = (255,255,255)\n",
    "BLACK = (0,0,0)\n",
    "DARKGRAY = (40, 40, 40)\n",
    "CELL = 20 \n",
    "GRIDWIDTH = 25\n",
    "GRIDHEIGHT = 20\n",
    "\n",
    "def draw_grid():\n",
    "    for x in range(0, GRIDWIDTH*CELL, CELL):\n",
    "        pygame.draw.line(gameDisplay, DARKGRAY, (x,0),(x,GRIDHEIGHT*CELL))\n",
    "    for y in range(0, GRIDHEIGHT*CELL, CELL):\n",
    "        pygame.draw.line(gameDisplay, DARKGRAY, (0,y),(GRIDWIDTH*CELL,y))\n",
    "        \n",
    "gameDisplay = pygame.display.set_mode((GRIDWIDTH*CELL, GRIDHEIGHT*CELL))\n",
    "pygame.display.set_caption(\"Game of Yulia's Life\")\n",
    "gameDisplay.fill(WHITE) \n",
    "draw_grid()\n",
    "pygame.display.update()   \n",
    "\n",
    "gameExit = False\n",
    "\n",
    "\n",
    "while not gameExit:\n",
    "    for event in pygame.event.get():\n",
    "        if event.type == pygame.QUIT:\n",
    "            gameExit = True\n",
    "        draw_grid()\n",
    "        pygame.display.update()\n",
    "        \n",
    "\n",
    "pygame.quit()\n",
    "quit()"
   ]
  },
  {
   "cell_type": "code",
   "execution_count": 7,
   "metadata": {},
   "outputs": [
    {
     "name": "stdout",
     "output_type": "stream",
     "text": [
      "[[0 0 0 0 0]\n",
      " [0 0 0 0 0]\n",
      " [0 1 1 1 0]\n",
      " [0 0 0 0 0]\n",
      " [0 0 0 0 0]]\n",
      "[[0 0 0 0 0]\n",
      " [0 0 1 0 0]\n",
      " [0 0 1 0 0]\n",
      " [0 0 1 0 0]\n",
      " [0 0 0 0 0]]\n",
      "[[0 0 0 0 0]\n",
      " [0 0 0 0 0]\n",
      " [0 1 1 1 0]\n",
      " [0 0 0 0 0]\n",
      " [0 0 0 0 0]]\n",
      "[[0 0 0 0 0]\n",
      " [0 0 1 0 0]\n",
      " [0 0 1 0 0]\n",
      " [0 0 1 0 0]\n",
      " [0 0 0 0 0]]\n"
     ]
    }
   ],
   "source": [
    "import numpy\n",
    "\n",
    "# this function does all the work\n",
    "def play_life(a):\n",
    "    xmax, ymax = a.shape\n",
    "    b = a.copy() # copy grid & Rule 2\n",
    "    for x in range(xmax):\n",
    "        for y in range(ymax):\n",
    "            n = numpy.sum(a[max(x - 1, 0):min(x + 2, xmax), max(y - 1, 0):min(y + 2, ymax)]) - a[x, y]\n",
    "            if a[x, y]:\n",
    "                if n < 2 or n > 3:\n",
    "                    b[x, y] = 0 # Rule 1 and 3\n",
    "            elif n == 3:\n",
    "                b[x, y] = 1 # Rule 4\n",
    "    return(b)\n",
    "\n",
    "# replace (5, 5) with the desired dimensions\n",
    "life = numpy.zeros((5, 5), dtype=numpy.byte)\n",
    "\n",
    "# place starting conditions here\n",
    "life[2, 1:4] = 1 # a simple \"spinner\"\n",
    "\n",
    "# now let's play\n",
    "print(life)\n",
    "for i in range(3):\n",
    "    life = play_life(life)\n",
    "    print(life)"
   ]
  },
  {
   "cell_type": "code",
   "execution_count": null,
   "metadata": {
    "collapsed": true
   },
   "outputs": [],
   "source": []
  }
 ],
 "metadata": {
  "kernelspec": {
   "display_name": "Python 3",
   "language": "python",
   "name": "python3"
  },
  "language_info": {
   "codemirror_mode": {
    "name": "ipython",
    "version": 2
   },
   "file_extension": ".py",
   "mimetype": "text/x-python",
   "name": "python",
   "nbconvert_exporter": "python",
   "pygments_lexer": "ipython2",
   "version": "2.7.10"
  }
 },
 "nbformat": 4,
 "nbformat_minor": 2
}
